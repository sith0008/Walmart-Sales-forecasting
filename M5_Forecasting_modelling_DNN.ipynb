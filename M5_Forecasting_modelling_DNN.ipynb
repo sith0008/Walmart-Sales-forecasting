{
 "cells": [
  {
   "cell_type": "code",
   "execution_count": 41,
   "metadata": {},
   "outputs": [],
   "source": [
    "import pandas as pd\n",
    "import numpy as np\n",
    "from tqdm import tqdm\n",
    "tqdm.pandas()\n",
    "import warnings\n",
    "warnings.filterwarnings('ignore')\n",
    "from keras.models import Sequential, Model\n",
    "from keras.layers import Dense, Embedding, LSTM, Dropout, GRU, Conv1D, MaxPooling1D, Input, concatenate\n",
    "from keras.datasets import imdb\n",
    "from keras.callbacks import TensorBoard, EarlyStopping, ModelCheckpoint"
   ]
  },
  {
   "cell_type": "markdown",
   "metadata": {},
   "source": [
    "## 1. Read in data for one store"
   ]
  },
  {
   "cell_type": "code",
   "execution_count": 2,
   "metadata": {},
   "outputs": [],
   "source": [
    "# read in features of one store (TX_2)\n",
    "features = pd.read_pickle('TX_2_features.pkl').dropna()"
   ]
  },
  {
   "cell_type": "markdown",
   "metadata": {},
   "source": [
    "## 2. Define loss function"
   ]
  },
  {
   "cell_type": "code",
   "execution_count": 7,
   "metadata": {},
   "outputs": [],
   "source": [
    "from keras import backend as K\n",
    "\n",
    "def rmse(y_true, y_pred):\n",
    "        return K.sqrt(K.mean(K.square(y_pred - y_true))) "
   ]
  },
  {
   "cell_type": "markdown",
   "metadata": {},
   "source": [
    "## 3. Set up training and validation sets"
   ]
  },
  {
   "cell_type": "code",
   "execution_count": 19,
   "metadata": {},
   "outputs": [],
   "source": [
    "NUM_LAG_DAYS= 28\n",
    "\n",
    "train = features[(features.d<=1863) & (features.d>=1069+NUM_LAG_DAYS)].dropna()\n",
    "val = features[(features.d > 1863) & (features.d < 1914)].dropna()\n",
    "test = features[features.d >= 1914]\n",
    "drop_cols = ['sales','id','d','wm_yr_wk','original_id','store_id','item_id']\n",
    "num_weeks = NUM_LAG_DAYS // 7\n",
    "for j in range(1,num_weeks+1):\n",
    "    drop_cols += ['lag'+str(j) for j in range(j*7-6,j*7)]\n",
    "drop_cols += ['event_name_1','event_name_2','event_type_1','event_type_2']\n",
    "x_train = train.drop(drop_cols,axis=1)\n",
    "y_train = train.sales.values\n",
    "x_val = val.drop(drop_cols,axis=1)\n",
    "y_val = val.sales.values    "
   ]
  },
  {
   "cell_type": "code",
   "execution_count": 6,
   "metadata": {},
   "outputs": [
    {
     "data": {
      "text/plain": [
       "(2273370, 48)"
      ]
     },
     "execution_count": 6,
     "metadata": {},
     "output_type": "execute_result"
    }
   ],
   "source": [
    "x_train.shape"
   ]
  },
  {
   "cell_type": "markdown",
   "metadata": {},
   "source": [
    "## 4. Define training configurations"
   ]
  },
  {
   "cell_type": "code",
   "execution_count": 14,
   "metadata": {},
   "outputs": [],
   "source": [
    "# training configurations\n",
    "num_epochs = 100\n",
    "batch_size = 128\n",
    "num_nodes = 128\n",
    "num_layers = 3\n",
    "dropout = 0.2\n",
    "loss_fn = rmse\n",
    "optimizer = 'adam'"
   ]
  },
  {
   "cell_type": "markdown",
   "metadata": {},
   "source": [
    "## 5. Train MLP model with early stopping"
   ]
  },
  {
   "cell_type": "code",
   "execution_count": 15,
   "metadata": {},
   "outputs": [
    {
     "name": "stdout",
     "output_type": "stream",
     "text": [
      "Train on 2273370 samples, validate on 152450 samples\n",
      "Epoch 1/100\n",
      "2273370/2273370 [==============================] - 48s 21us/step - loss: 2.0013 - accuracy: 0.5027 - val_loss: 1.9624 - val_accuracy: 0.4326\n",
      "Epoch 2/100\n",
      "2273370/2273370 [==============================] - 46s 20us/step - loss: 1.9304 - accuracy: 0.5022 - val_loss: 1.8894 - val_accuracy: 0.4774\n",
      "Epoch 3/100\n",
      "2273370/2273370 [==============================] - 43s 19us/step - loss: 1.9251 - accuracy: 0.5034 - val_loss: 1.6508 - val_accuracy: 0.4174\n",
      "Epoch 4/100\n",
      "2273370/2273370 [==============================] - 43s 19us/step - loss: 1.9182 - accuracy: 0.5039 - val_loss: 1.7145 - val_accuracy: 0.3875\n",
      "Epoch 5/100\n",
      "2273370/2273370 [==============================] - 43s 19us/step - loss: 1.9186 - accuracy: 0.5053 - val_loss: 1.7206 - val_accuracy: 0.3937\n",
      "Epoch 6/100\n",
      "2273370/2273370 [==============================] - 45s 20us/step - loss: 1.9138 - accuracy: 0.5056 - val_loss: 1.6840 - val_accuracy: 0.3987\n",
      "Epoch 7/100\n",
      "2273370/2273370 [==============================] - 42s 19us/step - loss: 1.9136 - accuracy: 0.5057 - val_loss: 1.7784 - val_accuracy: 0.3449\n",
      "Epoch 8/100\n",
      "2273370/2273370 [==============================] - 41s 18us/step - loss: 1.9178 - accuracy: 0.5058 - val_loss: 1.7660 - val_accuracy: 0.4375\n",
      "Epoch 9/100\n",
      "2273370/2273370 [==============================] - 41s 18us/step - loss: 1.9171 - accuracy: 0.5065 - val_loss: 1.8429 - val_accuracy: 0.3838\n",
      "Epoch 10/100\n",
      "2273370/2273370 [==============================] - 46s 20us/step - loss: 1.9187 - accuracy: 0.5063 - val_loss: 1.7805 - val_accuracy: 0.3846\n",
      "Epoch 11/100\n",
      "2273370/2273370 [==============================] - 46s 20us/step - loss: 1.9133 - accuracy: 0.5072 - val_loss: 1.8386 - val_accuracy: 0.3410\n",
      "Epoch 12/100\n",
      "2273370/2273370 [==============================] - 50s 22us/step - loss: 1.9106 - accuracy: 0.5088 - val_loss: 1.7128 - val_accuracy: 0.4135\n",
      "Epoch 13/100\n",
      "2273370/2273370 [==============================] - 54s 24us/step - loss: 1.9063 - accuracy: 0.5090 - val_loss: 1.7344 - val_accuracy: 0.3605\n",
      "Epoch 00013: early stopping\n"
     ]
    },
    {
     "data": {
      "text/plain": [
       "<keras.callbacks.callbacks.History at 0x7fbeaa4622e8>"
      ]
     },
     "execution_count": 15,
     "metadata": {},
     "output_type": "execute_result"
    }
   ],
   "source": [
    "mlp_model = Sequential()\n",
    "mlp_model.add(Dense(num_nodes, input_dim=x_train.shape[1], activation='relu'))\n",
    "mlp_model.add(Dropout(dropout))\n",
    "for i in range(num_layers-1):\n",
    "    mlp_model.add(Dense(num_nodes, activation='relu'))\n",
    "    mlp_model.add(Dropout(dropout))\n",
    "mlp_model.add(Dense(1, activation='relu'))\n",
    "mlp_model.compile(loss=loss_fn, optimizer=optimizer, metrics=['accuracy'])\n",
    "es = EarlyStopping(monitor='val_loss', mode='min', verbose=1, patience=10)\n",
    "# mc = ModelCheckpoint('tfidf_best_model.h5', monitor='val_accuracy', mode='max', verbose=0, save_best_only=True)\n",
    "mlp_model.fit(x_train, y_train,\n",
    "                batch_size=batch_size,\n",
    "                epochs=num_epochs,\n",
    "                validation_data=(x_val, y_val),\n",
    "                callbacks=[es],\n",
    "                verbose=1)"
   ]
  }
 ],
 "metadata": {
  "kernelspec": {
   "display_name": "Python 3",
   "language": "python",
   "name": "python3"
  },
  "language_info": {
   "codemirror_mode": {
    "name": "ipython",
    "version": 3
   },
   "file_extension": ".py",
   "mimetype": "text/x-python",
   "name": "python",
   "nbconvert_exporter": "python",
   "pygments_lexer": "ipython3",
   "version": "3.6.9"
  }
 },
 "nbformat": 4,
 "nbformat_minor": 2
}
